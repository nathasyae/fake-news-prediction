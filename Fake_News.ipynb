{
  "nbformat": 4,
  "nbformat_minor": 0,
  "metadata": {
    "colab": {
      "name": "Fake News.ipynb",
      "provenance": [],
      "collapsed_sections": []
    },
    "kernelspec": {
      "name": "python3",
      "display_name": "Python 3"
    }
  },
  "cells": [
    {
      "cell_type": "code",
      "execution_count": 1,
      "metadata": {},
      "outputs": [],
      "source": [
        "# Fake News Prediction"
      ]
    },
    {
      "cell_type": "code",
      "execution_count": 2,
      "metadata": {},
      "outputs": [],
      "source": [
        "## Preparation\n",
        "\n",
        "\n",
        "## EDA\n",
        "\n",
        "### Number of character\n",
        "\n",
        "### Number of word\n",
        "\n",
        "### Number of sentence\n",
        "\n",
        "### Stopwords Analysis\n",
        "\n",
        "### Punctuation Analysis\n",
        "\n",
        "### Bi-gram Analysis\n",
        "\n",
        "\n",
        "\n",
        "## Preprocessing\n",
        "\n",
        "### Cleaning\n",
        "\n",
        "### Splitting Train & Test\n",
        "\n",
        "\n",
        "## Feature Extraction\n",
        "\n",
        "### Bag of Words\n",
        "\n",
        "\n",
        "## GloVe Vectorization\n",
        "\n",
        "\n",
        "## Modelling\n",
        "\n",
        "### Random Forest\n",
        "\n",
        "### Naive Bayes\n",
        "\n",
        "### Neural Network"
      ]
    }
  ]
}